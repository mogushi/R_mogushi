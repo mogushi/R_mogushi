{
  "nbformat": 4,
  "nbformat_minor": 0,
  "metadata": {
    "colab": {
      "provenance": [],
      "authorship_tag": "ABX9TyM9tyQOBduhhkZLvRNOGCUs",
      "include_colab_link": true
    },
    "kernelspec": {
      "name": "ir",
      "display_name": "R"
    },
    "language_info": {
      "name": "R"
    }
  },
  "cells": [
    {
      "cell_type": "markdown",
      "metadata": {
        "id": "view-in-github",
        "colab_type": "text"
      },
      "source": [
        "<a href=\"https://colab.research.google.com/github/mogushi/R_mogushi/blob/main/Untitled3.ipynb\" target=\"_parent\"><img src=\"https://colab.research.google.com/assets/colab-badge.svg\" alt=\"Open In Colab\"/></a>"
      ]
    },
    {
      "cell_type": "code",
      "source": [
        "?plot"
      ],
      "metadata": {
        "id": "kYOdlHuiRQ7f"
      },
      "execution_count": 9,
      "outputs": []
    },
    {
      "cell_type": "markdown",
      "source": [
        "# Rコマンドの演習\n",
        "演算子"
      ],
      "metadata": {
        "id": "xKMKT8DAQ0hz"
      }
    },
    {
      "cell_type": "code",
      "source": [
        "12 + 3"
      ],
      "metadata": {
        "colab": {
          "base_uri": "https://localhost:8080/",
          "height": 34
        },
        "id": "AYL4O9ZCI1-u",
        "outputId": "6a16ebe4-2f86-4a42-f0f0-bf9a91d59f36"
      },
      "execution_count": 4,
      "outputs": [
        {
          "output_type": "display_data",
          "data": {
            "text/html": [
              "15"
            ],
            "text/markdown": "15",
            "text/latex": "15",
            "text/plain": [
              "[1] 15"
            ]
          },
          "metadata": {}
        }
      ]
    },
    {
      "cell_type": "code",
      "source": [
        "12 * 3"
      ],
      "metadata": {
        "colab": {
          "base_uri": "https://localhost:8080/",
          "height": 34
        },
        "id": "co47UMUZQnll",
        "outputId": "19d1da50-ad45-4b67-e246-8c344bf828df"
      },
      "execution_count": 8,
      "outputs": [
        {
          "output_type": "display_data",
          "data": {
            "text/html": [
              "36"
            ],
            "text/markdown": "36",
            "text/latex": "36",
            "text/plain": [
              "[1] 36"
            ]
          },
          "metadata": {}
        }
      ]
    },
    {
      "cell_type": "code",
      "source": [
        " a <- 1\n",
        " a\n",
        " print(a)\n",
        " a + 5"
      ],
      "metadata": {
        "colab": {
          "base_uri": "https://localhost:8080/",
          "height": 69
        },
        "id": "nb8YMPm3I5MR",
        "outputId": "84a82f36-4bd2-4fef-871e-c760c082a33f"
      },
      "execution_count": 7,
      "outputs": [
        {
          "output_type": "display_data",
          "data": {
            "text/html": [
              "1"
            ],
            "text/markdown": "1",
            "text/latex": "1",
            "text/plain": [
              "[1] 1"
            ]
          },
          "metadata": {}
        },
        {
          "output_type": "stream",
          "name": "stdout",
          "text": [
            "[1] 1\n"
          ]
        },
        {
          "output_type": "display_data",
          "data": {
            "text/html": [
              "6"
            ],
            "text/markdown": "6",
            "text/latex": "6",
            "text/plain": [
              "[1] 6"
            ]
          },
          "metadata": {}
        }
      ]
    }
  ]
}