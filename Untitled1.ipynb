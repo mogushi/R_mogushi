{
  "nbformat": 4,
  "nbformat_minor": 0,
  "metadata": {
    "colab": {
      "provenance": [],
      "authorship_tag": "ABX9TyOE9//dH9b7XpXID9bttwE0",
      "include_colab_link": true
    },
    "kernelspec": {
      "name": "ir",
      "display_name": "R"
    },
    "language_info": {
      "name": "R"
    }
  },
  "cells": [
    {
      "cell_type": "markdown",
      "metadata": {
        "id": "view-in-github",
        "colab_type": "text"
      },
      "source": [
        "<a href=\"https://colab.research.google.com/github/mogushi/R_mogushi/blob/main/Untitled1.ipynb\" target=\"_parent\"><img src=\"https://colab.research.google.com/assets/colab-badge.svg\" alt=\"Open In Colab\"/></a>"
      ]
    },
    {
      "cell_type": "code",
      "execution_count": 3,
      "metadata": {
        "colab": {
          "base_uri": "https://localhost:8080/",
          "height": 437
        },
        "id": "aM-WNRZu6vsX",
        "outputId": "0bd33521-12fa-4fcc-c0c6-cafa3102c372"
      },
      "outputs": [
        {
          "output_type": "display_data",
          "data": {
            "text/plain": [
              "plot without title"
            ],
            "image/png": "[encoded data removed]"
          },
          "metadata": {
            "image/png": {
              "width": 420,
              "height": 420
            }
          }
        }
      ],
      "source": [
        "x <- 1:10\n",
        "plot(x)"
      ]
    },
    {
      "cell_type": "code",
      "source": [
        "mean(x)"
      ],
      "metadata": {
        "colab": {
          "base_uri": "https://localhost:8080/",
          "height": 34
        },
        "id": "g_1HcusJ64Nn",
        "outputId": "fafd6c25-2074-42e3-cb51-ed5c04ddbc53"
      },
      "execution_count": 4,
      "outputs": [
        {
          "output_type": "display_data",
          "data": {
            "text/html": [
              "5.5"
            ],
            "text/markdown": "5.5",
            "text/latex": "5.5",
            "text/plain": [
              "[1] 5.5"
            ]
          },
          "metadata": {}
        }
      ]
    },
    {
      "cell_type": "code",
      "source": [
        "sum(x)\n",
        "median(x)"
      ],
      "metadata": {
        "colab": {
          "base_uri": "https://localhost:8080/",
          "height": 52
        },
        "id": "0fDmA82T7FnN",
        "outputId": "621f8cf0-9720-4b47-a63c-cbceead16cde"
      },
      "execution_count": 5,
      "outputs": [
        {
          "output_type": "display_data",
          "data": {
            "text/html": [
              "55"
            ],
            "text/markdown": "55",
            "text/latex": "55",
            "text/plain": [
              "[1] 55"
            ]
          },
          "metadata": {}
        },
        {
          "output_type": "display_data",
          "data": {
            "text/html": [
              "5.5"
            ],
            "text/markdown": "5.5",
            "text/latex": "5.5",
            "text/plain": [
              "[1] 5.5"
            ]
          },
          "metadata": {}
        }
      ]
    },
    {
      "cell_type": "code",
      "source": [
        "if (!require(\"BiocManager\", quietly = TRUE))\n",
        "    install.packages(\"BiocManager\")\n",
        "\n",
        "BiocManager::install(\"edgeR\")"
      ],
      "metadata": {
        "colab": {
          "base_uri": "https://localhost:8080/"
        },
        "id": "H6HkJ1L27Kin",
        "outputId": "e925c37e-c73a-453d-ff15-719641c7839e"
      },
      "execution_count": 8,
      "outputs": [
        {
          "output_type": "stream",
          "name": "stderr",
          "text": [
            "'getOption(\"repos\")' replaces Bioconductor standard repositories, see\n",
            "'?repositories' for details\n",
            "\n",
            "replacement repositories:\n",
            "    CRAN: https://cran.rstudio.com\n",
            "\n",
            "\n",
            "Bioconductor version 3.16 (BiocManager 1.30.19), R 4.2.2 Patched (2022-11-10\n",
            "  r83330)\n",
            "\n",
            "Warning message:\n",
            "“package(s) not installed when version(s) same as or greater than current; use\n",
            "  `force = TRUE` to re-install: 'edgeR'”\n",
            "Old packages: 'repr', 'bit', 'broom', 'bslib', 'cli', 'curl', 'data.table',\n",
            "  'devtools', 'digest', 'evaluate', 'gert', 'highr', 'htmltools', 'isoband',\n",
            "  'jsonlite', 'knitr', 'openssl', 'pkgload', 'purrr', 'rmarkdown', 'roxygen2',\n",
            "  'sass', 'stringi', 'stringr', 'svglite', 'testthat', 'tidyverse',\n",
            "  'timechange', 'tinytex', 'vctrs', 'whisker', 'xfun', 'boot', 'foreign',\n",
            "  'survival'\n",
            "\n"
          ]
        }
      ]
    },
    {
      "cell_type": "code",
      "source": [
        "library(edgeR)"
      ],
      "metadata": {
        "id": "5VOIlxtq8hbs"
      },
      "execution_count": 9,
      "outputs": []
    },
    {
      "cell_type": "code",
      "source": [
        "edgeRUsersGuide()"
      ],
      "metadata": {
        "colab": {
          "base_uri": "https://localhost:8080/",
          "height": 34
        },
        "id": "pBX5zhLx8lXr",
        "outputId": "4314df97-9fd8-4118-c0a4-d6a53197c191"
      },
      "execution_count": 10,
      "outputs": [
        {
          "output_type": "display_data",
          "data": {
            "text/html": [
              "'/usr/local/lib/R/site-library/edgeR/doc/edgeRUsersGuide.pdf'"
            ],
            "text/markdown": "'/usr/local/lib/R/site-library/edgeR/doc/edgeRUsersGuide.pdf'",
            "text/latex": "'/usr/local/lib/R/site-library/edgeR/doc/edgeRUsersGuide.pdf'",
            "text/plain": [
              "[1] \"/usr/local/lib/R/site-library/edgeR/doc/edgeRUsersGuide.pdf\""
            ]
          },
          "metadata": {}
        }
      ]
    },
    {
      "cell_type": "code",
      "source": [
        "x <- read.delim(\"TableOfCounts.txt\",row.names=\"Symbol\")\n",
        "group <- factor(c(1,1,2,2))\n",
        "y <- DGEList(counts=x,group=group)\n",
        "keep <- filterByExpr(y)\n",
        "y <- y[keep,,keep.lib.sizes=FALSE]\n",
        "y <- calcNormFactors(y)\n",
        "design <- model.matrix(~group)\n",
        "y <- estimateDisp(y,design)"
      ],
      "metadata": {
        "colab": {
          "base_uri": "https://localhost:8080/",
          "height": 222
        },
        "id": "6daQTONG88wf",
        "outputId": "3a8a2511-c518-4411-87fa-12d1f084b37b"
      },
      "execution_count": 11,
      "outputs": [
        {
          "output_type": "stream",
          "name": "stderr",
          "text": [
            "Warning message in file(file, \"rt\"):\n",
            "“cannot open file 'TableOfCounts.txt': No such file or directory”\n"
          ]
        },
        {
          "output_type": "error",
          "ename": "ERROR",
          "evalue": "ignored",
          "traceback": [
            "Error in file(file, \"rt\"): cannot open the connection\nTraceback:\n",
            "1. read.delim(\"TableOfCounts.txt\", row.names = \"Symbol\")",
            "2. read.table(file = file, header = header, sep = sep, quote = quote, \n .     dec = dec, fill = fill, comment.char = comment.char, ...)",
            "3. file(file, \"rt\")"
          ]
        }
      ]
    },
    {
      "cell_type": "code",
      "source": [
        "!/bin/bash"
      ],
      "metadata": {
        "colab": {
          "base_uri": "https://localhost:8080/",
          "height": 135
        },
        "id": "Hf-njtjI-rU3",
        "outputId": "85620507-b911-411f-db31-c3dfbd70a5cd"
      },
      "execution_count": 13,
      "outputs": [
        {
          "output_type": "error",
          "ename": "ERROR",
          "evalue": "ignored",
          "traceback": [
            "Error in parse(text = x, srcfile = src): <text>:1:2: unexpected '/'\n1: !/\n     ^\nTraceback:\n"
          ]
        }
      ]
    }
  ]
}